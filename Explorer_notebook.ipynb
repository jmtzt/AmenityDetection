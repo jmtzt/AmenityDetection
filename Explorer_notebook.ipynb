{
 "cells": [
  {
   "cell_type": "code",
   "execution_count": 1,
   "metadata": {},
   "outputs": [],
   "source": [
    "import pandas as pd"
   ]
  },
  {
   "cell_type": "code",
   "execution_count": 6,
   "metadata": {},
   "outputs": [
    {
     "data": {
      "text/plain": [
       "30"
      ]
     },
     "execution_count": 6,
     "metadata": {},
     "output_type": "execute_result"
    }
   ],
   "source": [
    "subset = [\"Toilet\", \"Swimming_pool\", \"Bed\",\n",
    "          \"Billiard_table\", \"Sink\", \"Fountain\",\n",
    "          \"Oven\",\"Ceiling_fan\", \"Television\", \n",
    "          \"Microwave_oven\", \"Gas_stove\", \"Refrigerator\",\n",
    "          \"Kitchen_&_dining_room_table\", \"Washing_machine\", \"Bathtub\",\n",
    "          \"Stairs\", \"Fireplace\", \"Pillow\",\n",
    "          \"Mirror\",  \"Shower\",  \"Couch\",\n",
    "          \"Countertop\",  \"Coffeemaker\",  \"Dishwasher\",\n",
    "          \"Sofa_bed\",  \"Tree_house\",  \"Towel\", \n",
    "          \"Porch\",  \"Wine_rack\",  \"Jacuzzi\"]\n",
    "len(subset)"
   ]
  },
  {
   "cell_type": "code",
   "execution_count": 7,
   "metadata": {},
   "outputs": [
    {
     "name": "stdout",
     "output_type": "stream",
     "text": [
      "--2020-11-10 15:52:38--  https://storage.googleapis.com/openimages/2018_04/class-descriptions-boxable.csv\n",
      "Loaded CA certificate '/etc/ssl/certs/ca-certificates.crt'\n",
      "Resolving storage.googleapis.com (storage.googleapis.com)... 2800:3f0:4001:805::2010, 2800:3f0:4001:81c::2010, 2800:3f0:4001:812::2010, ...\n",
      "Connecting to storage.googleapis.com (storage.googleapis.com)|2800:3f0:4001:805::2010|:443... connected.\n",
      "HTTP request sent, awaiting response... 200 OK\n",
      "Length: 11255 (11K) [text/csv]\n",
      "Saving to: ‘class-descriptions-boxable.csv’\n",
      "\n",
      "class-descriptions- 100%[===================>]  10.99K  --.-KB/s    in 0.003s  \n",
      "\n",
      "2020-11-10 15:52:39 (3.75 MB/s) - ‘class-descriptions-boxable.csv’ saved [11255/11255]\n",
      "\n"
     ]
    }
   ],
   "source": [
    "!wget https://storage.googleapis.com/openimages/2018_04/class-descriptions-boxable.csv"
   ]
  },
  {
   "cell_type": "code",
   "execution_count": 8,
   "metadata": {},
   "outputs": [
    {
     "data": {
      "text/html": [
       "<div>\n",
       "<style scoped>\n",
       "    .dataframe tbody tr th:only-of-type {\n",
       "        vertical-align: middle;\n",
       "    }\n",
       "\n",
       "    .dataframe tbody tr th {\n",
       "        vertical-align: top;\n",
       "    }\n",
       "\n",
       "    .dataframe thead th {\n",
       "        text-align: right;\n",
       "    }\n",
       "</style>\n",
       "<table border=\"1\" class=\"dataframe\">\n",
       "  <thead>\n",
       "    <tr style=\"text-align: right;\">\n",
       "      <th></th>\n",
       "      <th>ID</th>\n",
       "      <th>Name</th>\n",
       "    </tr>\n",
       "  </thead>\n",
       "  <tbody>\n",
       "    <tr>\n",
       "      <th>0</th>\n",
       "      <td>/m/011k07</td>\n",
       "      <td>Tortoise</td>\n",
       "    </tr>\n",
       "    <tr>\n",
       "      <th>1</th>\n",
       "      <td>/m/011q46kg</td>\n",
       "      <td>Container</td>\n",
       "    </tr>\n",
       "    <tr>\n",
       "      <th>2</th>\n",
       "      <td>/m/012074</td>\n",
       "      <td>Magpie</td>\n",
       "    </tr>\n",
       "    <tr>\n",
       "      <th>3</th>\n",
       "      <td>/m/0120dh</td>\n",
       "      <td>Sea turtle</td>\n",
       "    </tr>\n",
       "    <tr>\n",
       "      <th>4</th>\n",
       "      <td>/m/01226z</td>\n",
       "      <td>Football</td>\n",
       "    </tr>\n",
       "    <tr>\n",
       "      <th>...</th>\n",
       "      <td>...</td>\n",
       "      <td>...</td>\n",
       "    </tr>\n",
       "    <tr>\n",
       "      <th>596</th>\n",
       "      <td>/m/0qmmr</td>\n",
       "      <td>Wheelchair</td>\n",
       "    </tr>\n",
       "    <tr>\n",
       "      <th>597</th>\n",
       "      <td>/m/0wdt60w</td>\n",
       "      <td>Rugby ball</td>\n",
       "    </tr>\n",
       "    <tr>\n",
       "      <th>598</th>\n",
       "      <td>/m/0xfy</td>\n",
       "      <td>Armadillo</td>\n",
       "    </tr>\n",
       "    <tr>\n",
       "      <th>599</th>\n",
       "      <td>/m/0xzly</td>\n",
       "      <td>Maracas</td>\n",
       "    </tr>\n",
       "    <tr>\n",
       "      <th>600</th>\n",
       "      <td>/m/0zvk5</td>\n",
       "      <td>Helmet</td>\n",
       "    </tr>\n",
       "  </tbody>\n",
       "</table>\n",
       "<p>601 rows × 2 columns</p>\n",
       "</div>"
      ],
      "text/plain": [
       "              ID        Name\n",
       "0      /m/011k07    Tortoise\n",
       "1    /m/011q46kg   Container\n",
       "2      /m/012074      Magpie\n",
       "3      /m/0120dh  Sea turtle\n",
       "4      /m/01226z    Football\n",
       "..           ...         ...\n",
       "596     /m/0qmmr  Wheelchair\n",
       "597   /m/0wdt60w  Rugby ball\n",
       "598      /m/0xfy   Armadillo\n",
       "599     /m/0xzly     Maracas\n",
       "600     /m/0zvk5      Helmet\n",
       "\n",
       "[601 rows x 2 columns]"
      ]
     },
     "execution_count": 8,
     "metadata": {},
     "output_type": "execute_result"
    }
   ],
   "source": [
    "classes = pd.read_csv(\"class-descriptions-boxable.csv\", names = [\"ID\", \"Name\"]); classes"
   ]
  },
  {
   "cell_type": "code",
   "execution_count": 12,
   "metadata": {},
   "outputs": [
    {
     "data": {
      "text/html": [
       "<div>\n",
       "<style scoped>\n",
       "    .dataframe tbody tr th:only-of-type {\n",
       "        vertical-align: middle;\n",
       "    }\n",
       "\n",
       "    .dataframe tbody tr th {\n",
       "        vertical-align: top;\n",
       "    }\n",
       "\n",
       "    .dataframe thead th {\n",
       "        text-align: right;\n",
       "    }\n",
       "</style>\n",
       "<table border=\"1\" class=\"dataframe\">\n",
       "  <thead>\n",
       "    <tr style=\"text-align: right;\">\n",
       "      <th></th>\n",
       "      <th>ID</th>\n",
       "      <th>Name</th>\n",
       "      <th>match</th>\n",
       "    </tr>\n",
       "  </thead>\n",
       "  <tbody>\n",
       "    <tr>\n",
       "      <th>0</th>\n",
       "      <td>/m/011k07</td>\n",
       "      <td>Tortoise</td>\n",
       "      <td>False</td>\n",
       "    </tr>\n",
       "    <tr>\n",
       "      <th>1</th>\n",
       "      <td>/m/011q46kg</td>\n",
       "      <td>Container</td>\n",
       "      <td>False</td>\n",
       "    </tr>\n",
       "    <tr>\n",
       "      <th>2</th>\n",
       "      <td>/m/012074</td>\n",
       "      <td>Magpie</td>\n",
       "      <td>False</td>\n",
       "    </tr>\n",
       "    <tr>\n",
       "      <th>3</th>\n",
       "      <td>/m/0120dh</td>\n",
       "      <td>Sea turtle</td>\n",
       "      <td>False</td>\n",
       "    </tr>\n",
       "    <tr>\n",
       "      <th>4</th>\n",
       "      <td>/m/01226z</td>\n",
       "      <td>Football</td>\n",
       "      <td>False</td>\n",
       "    </tr>\n",
       "    <tr>\n",
       "      <th>...</th>\n",
       "      <td>...</td>\n",
       "      <td>...</td>\n",
       "      <td>...</td>\n",
       "    </tr>\n",
       "    <tr>\n",
       "      <th>596</th>\n",
       "      <td>/m/0qmmr</td>\n",
       "      <td>Wheelchair</td>\n",
       "      <td>False</td>\n",
       "    </tr>\n",
       "    <tr>\n",
       "      <th>597</th>\n",
       "      <td>/m/0wdt60w</td>\n",
       "      <td>Rugby ball</td>\n",
       "      <td>False</td>\n",
       "    </tr>\n",
       "    <tr>\n",
       "      <th>598</th>\n",
       "      <td>/m/0xfy</td>\n",
       "      <td>Armadillo</td>\n",
       "      <td>False</td>\n",
       "    </tr>\n",
       "    <tr>\n",
       "      <th>599</th>\n",
       "      <td>/m/0xzly</td>\n",
       "      <td>Maracas</td>\n",
       "      <td>False</td>\n",
       "    </tr>\n",
       "    <tr>\n",
       "      <th>600</th>\n",
       "      <td>/m/0zvk5</td>\n",
       "      <td>Helmet</td>\n",
       "      <td>False</td>\n",
       "    </tr>\n",
       "  </tbody>\n",
       "</table>\n",
       "<p>601 rows × 3 columns</p>\n",
       "</div>"
      ],
      "text/plain": [
       "              ID        Name  match\n",
       "0      /m/011k07    Tortoise  False\n",
       "1    /m/011q46kg   Container  False\n",
       "2      /m/012074      Magpie  False\n",
       "3      /m/0120dh  Sea turtle  False\n",
       "4      /m/01226z    Football  False\n",
       "..           ...         ...    ...\n",
       "596     /m/0qmmr  Wheelchair  False\n",
       "597   /m/0wdt60w  Rugby ball  False\n",
       "598      /m/0xfy   Armadillo  False\n",
       "599     /m/0xzly     Maracas  False\n",
       "600     /m/0zvk5      Helmet  False\n",
       "\n",
       "[601 rows x 3 columns]"
      ]
     },
     "execution_count": 12,
     "metadata": {},
     "output_type": "execute_result"
    }
   ],
   "source": [
    "classes[\"match\"] = classes[\"Name\"].isin(subset); classes"
   ]
  },
  {
   "cell_type": "code",
   "execution_count": 14,
   "metadata": {},
   "outputs": [
    {
     "data": {
      "text/plain": [
       "False    581\n",
       "True      20\n",
       "Name: match, dtype: int64"
      ]
     },
     "execution_count": 14,
     "metadata": {},
     "output_type": "execute_result"
    }
   ],
   "source": [
    "classes.match.value_counts()"
   ]
  },
  {
   "cell_type": "code",
   "execution_count": 15,
   "metadata": {},
   "outputs": [
    {
     "data": {
      "text/plain": [
       "['Sink',\n",
       " 'Towel',\n",
       " 'Stairs',\n",
       " 'Fountain',\n",
       " 'Oven',\n",
       " 'Couch',\n",
       " 'Shower',\n",
       " 'Pillow',\n",
       " 'Bathtub',\n",
       " 'Bed',\n",
       " 'Fireplace',\n",
       " 'Refrigerator',\n",
       " 'Porch',\n",
       " 'Mirror',\n",
       " 'Jacuzzi',\n",
       " 'Television',\n",
       " 'Coffeemaker',\n",
       " 'Toilet',\n",
       " 'Countertop',\n",
       " 'Dishwasher']"
      ]
     },
     "execution_count": 15,
     "metadata": {},
     "output_type": "execute_result"
    }
   ],
   "source": [
    "# What are the matches for our initial subset?\n",
    "matches = classes[classes[\"match\"] == True][\"Name\"].tolist(); matches"
   ]
  },
  {
   "cell_type": "code",
   "execution_count": 16,
   "metadata": {},
   "outputs": [
    {
     "data": {
      "text/plain": [
       "['Ceiling_fan',\n",
       " 'Wine_rack',\n",
       " 'Kitchen_&_dining_room_table',\n",
       " 'Microwave_oven',\n",
       " 'Sofa_bed',\n",
       " 'Washing_machine',\n",
       " 'Billiard_table',\n",
       " 'Gas_stove',\n",
       " 'Swimming_pool',\n",
       " 'Tree_house']"
      ]
     },
     "execution_count": 16,
     "metadata": {},
     "output_type": "execute_result"
    }
   ],
   "source": [
    "# Where they differ?\n",
    "missing_classes = list(set(subset)-set(matches)); missing_classes"
   ]
  },
  {
   "cell_type": "code",
   "execution_count": 17,
   "metadata": {},
   "outputs": [
    {
     "data": {
      "text/html": [
       "<div>\n",
       "<style scoped>\n",
       "    .dataframe tbody tr th:only-of-type {\n",
       "        vertical-align: middle;\n",
       "    }\n",
       "\n",
       "    .dataframe tbody tr th {\n",
       "        vertical-align: top;\n",
       "    }\n",
       "\n",
       "    .dataframe thead th {\n",
       "        text-align: right;\n",
       "    }\n",
       "</style>\n",
       "<table border=\"1\" class=\"dataframe\">\n",
       "  <thead>\n",
       "    <tr style=\"text-align: right;\">\n",
       "      <th></th>\n",
       "      <th>ID</th>\n",
       "      <th>Name</th>\n",
       "      <th>match</th>\n",
       "    </tr>\n",
       "  </thead>\n",
       "  <tbody>\n",
       "    <tr>\n",
       "      <th>444</th>\n",
       "      <td>/m/0b_rs</td>\n",
       "      <td>Swimming pool</td>\n",
       "      <td>False</td>\n",
       "    </tr>\n",
       "  </tbody>\n",
       "</table>\n",
       "</div>"
      ],
      "text/plain": [
       "           ID           Name  match\n",
       "444  /m/0b_rs  Swimming pool  False"
      ]
     },
     "execution_count": 17,
     "metadata": {},
     "output_type": "execute_result"
    }
   ],
   "source": [
    "classes[classes[\"Name\"].str.contains(\"pool\")]"
   ]
  },
  {
   "cell_type": "code",
   "execution_count": 18,
   "metadata": {},
   "outputs": [
    {
     "data": {
      "text/html": [
       "<div>\n",
       "<style scoped>\n",
       "    .dataframe tbody tr th:only-of-type {\n",
       "        vertical-align: middle;\n",
       "    }\n",
       "\n",
       "    .dataframe tbody tr th {\n",
       "        vertical-align: top;\n",
       "    }\n",
       "\n",
       "    .dataframe thead th {\n",
       "        text-align: right;\n",
       "    }\n",
       "</style>\n",
       "<table border=\"1\" class=\"dataframe\">\n",
       "  <thead>\n",
       "    <tr style=\"text-align: right;\">\n",
       "      <th></th>\n",
       "      <th>ID</th>\n",
       "      <th>Name</th>\n",
       "      <th>match</th>\n",
       "    </tr>\n",
       "  </thead>\n",
       "  <tbody>\n",
       "    <tr>\n",
       "      <th>197</th>\n",
       "      <td>/m/02wv84t</td>\n",
       "      <td>Gas stove</td>\n",
       "      <td>False</td>\n",
       "    </tr>\n",
       "    <tr>\n",
       "      <th>270</th>\n",
       "      <td>/m/04169hn</td>\n",
       "      <td>Wood-burning stove</td>\n",
       "      <td>False</td>\n",
       "    </tr>\n",
       "  </tbody>\n",
       "</table>\n",
       "</div>"
      ],
      "text/plain": [
       "             ID                Name  match\n",
       "197  /m/02wv84t           Gas stove  False\n",
       "270  /m/04169hn  Wood-burning stove  False"
      ]
     },
     "execution_count": 18,
     "metadata": {},
     "output_type": "execute_result"
    }
   ],
   "source": [
    "classes[classes[\"Name\"].str.contains(\"stove\")]"
   ]
  },
  {
   "cell_type": "code",
   "execution_count": 19,
   "metadata": {},
   "outputs": [
    {
     "data": {
      "text/plain": [
       "['Gas stove', 'Wood-burning stove']"
      ]
     },
     "execution_count": 19,
     "metadata": {},
     "output_type": "execute_result"
    }
   ],
   "source": [
    "classes[classes[\"Name\"].str.contains(\"stove\")][\"Name\"].tolist()"
   ]
  },
  {
   "cell_type": "code",
   "execution_count": 20,
   "metadata": {},
   "outputs": [
    {
     "data": {
      "text/plain": [
       "['Ceiling',\n",
       " 'fan',\n",
       " 'Wine',\n",
       " 'rack',\n",
       " 'Kitchen',\n",
       " '&',\n",
       " 'dining',\n",
       " 'room',\n",
       " 'table',\n",
       " 'Microwave',\n",
       " 'oven',\n",
       " 'Sofa',\n",
       " 'bed',\n",
       " 'Washing',\n",
       " 'machine',\n",
       " 'Billiard',\n",
       " 'table',\n",
       " 'Gas',\n",
       " 'stove',\n",
       " 'Swimming',\n",
       " 'pool',\n",
       " 'Tree',\n",
       " 'house']"
      ]
     },
     "execution_count": 20,
     "metadata": {},
     "output_type": "execute_result"
    }
   ],
   "source": [
    "# Get the individual words from each string of missing classes\n",
    "strings = [i.split('_') for i in missing_classes]\n",
    "strings = [item for sublist in strings for item in sublist]\n",
    "strings"
   ]
  },
  {
   "cell_type": "code",
   "execution_count": 21,
   "metadata": {},
   "outputs": [
    {
     "data": {
      "text/plain": [
       "['Dog bed',\n",
       " 'Tree house',\n",
       " 'Mushroom',\n",
       " 'Microwave oven',\n",
       " 'Bathroom cabinet',\n",
       " 'Infant bed',\n",
       " 'Lighthouse',\n",
       " 'Billiard table',\n",
       " 'Gas stove',\n",
       " 'Kitchenware',\n",
       " 'Spice rack',\n",
       " 'Tree',\n",
       " 'Swimming pool',\n",
       " 'Wine rack',\n",
       " 'Kitchen & dining room table',\n",
       " 'Coffee table',\n",
       " 'Vegetable',\n",
       " 'Wine',\n",
       " 'Wine glass',\n",
       " 'Sofa bed',\n",
       " 'Mechanical fan',\n",
       " 'Tennis racket',\n",
       " 'Sewing machine',\n",
       " 'Table tennis racket',\n",
       " 'Kitchen knife',\n",
       " 'Kitchen appliance',\n",
       " 'Kitchen utensil',\n",
       " 'Ceiling fan',\n",
       " 'Washing machine',\n",
       " 'Bathroom accessory',\n",
       " 'Wood-burning stove']"
      ]
     },
     "execution_count": 21,
     "metadata": {},
     "output_type": "execute_result"
    }
   ],
   "source": [
    "# Now find if any of the strings match up\n",
    "more_matches = []\n",
    "for string in strings:\n",
    "    more_matches.append(classes[classes[\"Name\"].str.contains(string)][\"Name\"].tolist())\n",
    "more_matches = list(set([item for sublist in more_matches for item in sublist]))\n",
    "more_matches"
   ]
  },
  {
   "cell_type": "code",
   "execution_count": 22,
   "metadata": {},
   "outputs": [
    {
     "data": {
      "text/plain": [
       "['Ceiling fan',\n",
       " 'Wine rack',\n",
       " 'Kitchen & dining room table',\n",
       " 'Microwave oven',\n",
       " 'Sofa bed',\n",
       " 'Washing machine',\n",
       " 'Billiard table',\n",
       " 'Gas stove',\n",
       " 'Swimming pool',\n",
       " 'Tree house']"
      ]
     },
     "execution_count": 22,
     "metadata": {},
     "output_type": "execute_result"
    }
   ],
   "source": [
    "missing_classes_no_space = [i.replace(\"_\", \" \") for i in missing_classes]\n",
    "missing_classes_no_space"
   ]
  },
  {
   "cell_type": "code",
   "execution_count": 23,
   "metadata": {},
   "outputs": [
    {
     "data": {
      "text/plain": [
       "[]"
      ]
     },
     "execution_count": 23,
     "metadata": {},
     "output_type": "execute_result"
    }
   ],
   "source": [
    "actual_missing_classes = list(set(missing_classes_no_space) - set(more_matches))\n",
    "actual_missing_classes"
   ]
  },
  {
   "cell_type": "markdown",
   "metadata": {},
   "source": [
    "The open Images dataset contains all of our classes of interest, they only differ in the naming convention (Airbnb uses underscores in theyr class names and Open Images don't)"
   ]
  },
  {
   "cell_type": "code",
   "execution_count": 24,
   "metadata": {},
   "outputs": [
    {
     "data": {
      "text/plain": [
       "['Toilet',\n",
       " 'Swimming pool',\n",
       " 'Bed',\n",
       " 'Billiard table',\n",
       " 'Sink',\n",
       " 'Fountain',\n",
       " 'Oven',\n",
       " 'Ceiling fan',\n",
       " 'Television',\n",
       " 'Microwave oven',\n",
       " 'Gas stove',\n",
       " 'Refrigerator',\n",
       " 'Kitchen & dining room table',\n",
       " 'Washing machine',\n",
       " 'Bathtub',\n",
       " 'Stairs',\n",
       " 'Fireplace',\n",
       " 'Pillow',\n",
       " 'Mirror',\n",
       " 'Shower',\n",
       " 'Couch',\n",
       " 'Countertop',\n",
       " 'Coffeemaker',\n",
       " 'Dishwasher',\n",
       " 'Sofa bed',\n",
       " 'Tree house',\n",
       " 'Towel',\n",
       " 'Porch',\n",
       " 'Wine rack',\n",
       " 'Jacuzzi']"
      ]
     },
     "execution_count": 24,
     "metadata": {},
     "output_type": "execute_result"
    }
   ],
   "source": [
    "subset_no_underscore = [i.replace(\"_\", \" \") for i in subset]\n",
    "subset_no_underscore"
   ]
  }
 ],
 "metadata": {
  "kernelspec": {
   "display_name": "Python 3",
   "language": "python",
   "name": "python3"
  },
  "language_info": {
   "codemirror_mode": {
    "name": "ipython",
    "version": 3
   },
   "file_extension": ".py",
   "mimetype": "text/x-python",
   "name": "python",
   "nbconvert_exporter": "python",
   "pygments_lexer": "ipython3",
   "version": "3.8.3"
  }
 },
 "nbformat": 4,
 "nbformat_minor": 4
}
